{
  "nbformat": 4,
  "nbformat_minor": 0,
  "metadata": {
    "colab": {
      "name": "AI omu075-lab3.ipynb",
      "version": "0.3.2",
      "provenance": [],
      "collapsed_sections": []
    },
    "kernelspec": {
      "name": "python3",
      "display_name": "Python 3"
    }
  },
  "cells": [
    {
      "cell_type": "markdown",
      "metadata": {
        "id": "DDlAstRN8WGz",
        "colab_type": "text"
      },
      "source": [
        "**Question 1**: Data.\n",
        "\n",
        "In this section our test data are split up into labels and images. The images are first tried for resizing, and only passing the image if there is an error. The data is then split into 75% training and 25% validation test split. And finally a bar graph is shown visualizing the amount of images athat are dogs and that are cats.\n"
      ]
    },
    {
      "cell_type": "code",
      "metadata": {
        "id": "-VcmTGVLh48Z",
        "colab_type": "code",
        "colab": {}
      },
      "source": [
        "!unzip data-lab3.zip"
      ],
      "execution_count": 0,
      "outputs": []
    },
    {
      "cell_type": "code",
      "metadata": {
        "id": "tznFXZO4ql2b",
        "colab_type": "code",
        "outputId": "7e0fa736-fba7-4d60-9516-9f61e0382004",
        "colab": {
          "base_uri": "https://localhost:8080/",
          "height": 685
        }
      },
      "source": [
        "import os, cv2, re, random\n",
        "import numpy as np\n",
        "import pandas as pd\n",
        "from keras.preprocessing.image import ImageDataGenerator\n",
        "from keras.preprocessing.image import img_to_array, load_img\n",
        "from keras import layers, models, optimizers\n",
        "from keras import backend as K\n",
        "from sklearn.model_selection import train_test_split\n",
        "\n",
        "import plotly.plotly as py\n",
        "import plotly.tools as tls\n",
        "import matplotlib.pyplot as plt\n",
        "\n",
        "img_width = 150\n",
        "img_height = 150\n",
        "TRAIN_DIR_CAT = 'data-lab3/cat/'\n",
        "TRAIN_DIR_DOG = 'data-lab3/dog/'\n",
        "\n",
        "list_images_cat= [TRAIN_DIR_CAT+i for i in os.listdir(TRAIN_DIR_CAT)]\n",
        "list_images_dog= [TRAIN_DIR_DOG+i for i in os.listdir(TRAIN_DIR_DOG)]\n",
        "\n",
        "# Load the images into X and labels into Y.\n",
        "X = [] # images as arrays\n",
        "Y = [] # labels\n",
        "\n",
        "nbr_cats = 0\n",
        "nbr_dogs = 0\n",
        "\n",
        "for image in list_images_cat:\n",
        "  try:\n",
        "    # The images provided are of varying size - \n",
        "    # they will need to be resized prior to feeding them into the model.\n",
        "    X.append(cv2.resize(cv2.imread(image), (img_width,img_height), interpolation=cv2.INTER_CUBIC))\n",
        "    Y.append(0)\n",
        "    nbr_cats = nbr_cats + 1\n",
        "  except Exception as e:\n",
        "    print(str(e)) \n",
        "  \n",
        "for image in list_images_dog:\n",
        "  try:\n",
        "    X.append(cv2.resize(cv2.imread(image), (img_width,img_height), interpolation=cv2.INTER_CUBIC))\n",
        "    Y.append(1)\n",
        "    nbr_dogs = nbr_dogs + 1\n",
        "  except Exception as e:\n",
        "    print(str(e))\n",
        "     \n",
        "#print(len(X))\n",
        "#print(len(Y))\n",
        "\n",
        "# Train/Test Split: 75% for training, 25% for Val/Test)\n",
        "X_train, X_val, Y_train, Y_val = train_test_split(X,Y, test_size=0.25, random_state=1)\n",
        "\n",
        "# Display a bar chart to show the number of images in each category, in both the training\n",
        "# and testing data.\n",
        "plt.title(\"Cats vs Dogs\")\n",
        "y = [nbr_cats, nbr_dogs]\n",
        "x = ['Cats', 'Dogs']\n",
        "width = 1/1.5\n",
        "plt.bar(x, y, width, color=\"blue\")\n",
        "plt.show()"
      ],
      "execution_count": 0,
      "outputs": [
        {
          "output_type": "stream",
          "text": [
            "Using TensorFlow backend.\n"
          ],
          "name": "stderr"
        },
        {
          "output_type": "stream",
          "text": [
            "OpenCV(3.4.3) /io/opencv/modules/imgproc/src/resize.cpp:4044: error: (-215:Assertion failed) !ssize.empty() in function 'resize'\n",
            "\n",
            "OpenCV(3.4.3) /io/opencv/modules/imgproc/src/resize.cpp:4044: error: (-215:Assertion failed) !ssize.empty() in function 'resize'\n",
            "\n",
            "OpenCV(3.4.3) /io/opencv/modules/imgproc/src/resize.cpp:4044: error: (-215:Assertion failed) !ssize.empty() in function 'resize'\n",
            "\n",
            "OpenCV(3.4.3) /io/opencv/modules/imgproc/src/resize.cpp:4044: error: (-215:Assertion failed) !ssize.empty() in function 'resize'\n",
            "\n",
            "OpenCV(3.4.3) /io/opencv/modules/imgproc/src/resize.cpp:4044: error: (-215:Assertion failed) !ssize.empty() in function 'resize'\n",
            "\n",
            "OpenCV(3.4.3) /io/opencv/modules/imgproc/src/resize.cpp:4044: error: (-215:Assertion failed) !ssize.empty() in function 'resize'\n",
            "\n",
            "OpenCV(3.4.3) /io/opencv/modules/imgproc/src/resize.cpp:4044: error: (-215:Assertion failed) !ssize.empty() in function 'resize'\n",
            "\n",
            "OpenCV(3.4.3) /io/opencv/modules/imgproc/src/resize.cpp:4044: error: (-215:Assertion failed) !ssize.empty() in function 'resize'\n",
            "\n",
            "OpenCV(3.4.3) /io/opencv/modules/imgproc/src/resize.cpp:4044: error: (-215:Assertion failed) !ssize.empty() in function 'resize'\n",
            "\n"
          ],
          "name": "stdout"
        },
        {
          "output_type": "display_data",
          "data": {
            "image/png": "[encoded data removed]",
            "text/plain": [
              "<Figure size 576x396 with 1 Axes>"
            ]
          },
          "metadata": {
            "tags": []
          }
        }
      ]
    },
    {
      "cell_type": "markdown",
      "metadata": {
        "id": "Xa4KPmX99hbc",
        "colab_type": "text"
      },
      "source": [
        "** Question 2**: Classification\n",
        "\n",
        "The model is first defined as sequential so that we can add multiple layers to it. Then we had multiple layers to the model as requested by the assignment details. The summary of the model is printed out and then the model itself is compiled using the specifications detailed in the assignment. Finally the model is fit with our train and test data."
      ]
    },
    {
      "cell_type": "code",
      "metadata": {
        "id": "xyMyHnkwP2z9",
        "colab_type": "code",
        "outputId": "9d35097d-833a-4eb9-efa9-ac307eba86ed",
        "colab": {
          "base_uri": "https://localhost:8080/",
          "height": 816
        }
      },
      "source": [
        "from keras.models import Sequential\n",
        "from keras.layers import Dense, Flatten\n",
        "import numpy as np\n",
        "\n",
        "nb_train_samples = len(X_train)\n",
        "nb_validation_samples = len(X_val)\n",
        "batch_size = 16\n",
        "\n",
        "model = Sequential()\n",
        "\n",
        "# Create a neural network using Keras and add at least 3 hidden layers. \n",
        "model.add(layers.Conv2D(32, (3, 3), input_shape=(img_width, img_height, 3)))\n",
        "model.add(layers.Activation('relu'))\n",
        "model.add(layers.MaxPooling2D(pool_size=(2, 2)))\n",
        "\n",
        "model.add(layers.Conv2D(32, (3, 3)))\n",
        "model.add(layers.Activation('relu'))\n",
        "model.add(layers.MaxPooling2D(pool_size=(2, 2)))\n",
        "\n",
        "model.add(layers.Conv2D(64, (3, 3)))\n",
        "model.add(layers.Activation('relu'))\n",
        "model.add(layers.MaxPooling2D(pool_size=(2, 2)))\n",
        "\n",
        "model.add(layers.Flatten())\n",
        "model.add(layers.Dense(64))\n",
        "model.add(layers.Activation('relu'))\n",
        "model.add(layers.Dropout(0.5))\n",
        "model.add(layers.Dense(1))\n",
        "model.add(layers.Activation('sigmoid'))\n",
        "\n",
        "# Use the summary on your Keras model to display a full summary of your model.\n",
        "model.summary()\n",
        "\n",
        "# Compile your model using compile from Keras. \n",
        "model.compile(loss='binary_crossentropy', optimizer='SGD', metrics=['accuracy'])\n",
        "\n",
        "train_datagen = ImageDataGenerator(\n",
        "    rescale=1. / 255,\n",
        "    shear_range=0.2,\n",
        "    zoom_range=0.2,\n",
        "    horizontal_flip=True)\n",
        "\n",
        "val_datagen = ImageDataGenerator(\n",
        "    rescale=1. / 255,\n",
        "    shear_range=0.2,\n",
        "    zoom_range=0.2,\n",
        "    horizontal_flip=True)\n",
        "\n",
        "train_generator = train_datagen.flow(np.array(X_train), Y_train, batch_size=batch_size)\n",
        "validation_generator = val_datagen.flow(np.array(X_val), Y_val, batch_size=batch_size)\n",
        "\n",
        "# Train your model, using fit from Keras\n",
        "history = model.fit_generator(\n",
        "    train_generator, \n",
        "    steps_per_epoch=nb_train_samples // batch_size,\n",
        "    epochs=5, #set size varies (time contraints)\n",
        "    validation_data=validation_generator,\n",
        "    validation_steps=nb_validation_samples // batch_size\n",
        ")"
      ],
      "execution_count": 0,
      "outputs": [
        {
          "output_type": "stream",
          "text": [
            "_________________________________________________________________\n",
            "Layer (type)                 Output Shape              Param #   \n",
            "=================================================================\n",
            "conv2d_37 (Conv2D)           (None, 148, 148, 32)      896       \n",
            "_________________________________________________________________\n",
            "activation_61 (Activation)   (None, 148, 148, 32)      0         \n",
            "_________________________________________________________________\n",
            "max_pooling2d_37 (MaxPooling (None, 74, 74, 32)        0         \n",
            "_________________________________________________________________\n",
            "conv2d_38 (Conv2D)           (None, 72, 72, 32)        9248      \n",
            "_________________________________________________________________\n",
            "activation_62 (Activation)   (None, 72, 72, 32)        0         \n",
            "_________________________________________________________________\n",
            "max_pooling2d_38 (MaxPooling (None, 36, 36, 32)        0         \n",
            "_________________________________________________________________\n",
            "conv2d_39 (Conv2D)           (None, 34, 34, 64)        18496     \n",
            "_________________________________________________________________\n",
            "activation_63 (Activation)   (None, 34, 34, 64)        0         \n",
            "_________________________________________________________________\n",
            "max_pooling2d_39 (MaxPooling (None, 17, 17, 64)        0         \n",
            "_________________________________________________________________\n",
            "flatten_13 (Flatten)         (None, 18496)             0         \n",
            "_________________________________________________________________\n",
            "dense_25 (Dense)             (None, 64)                1183808   \n",
            "_________________________________________________________________\n",
            "activation_64 (Activation)   (None, 64)                0         \n",
            "_________________________________________________________________\n",
            "dropout_13 (Dropout)         (None, 64)                0         \n",
            "_________________________________________________________________\n",
            "dense_26 (Dense)             (None, 1)                 65        \n",
            "_________________________________________________________________\n",
            "activation_65 (Activation)   (None, 1)                 0         \n",
            "=================================================================\n",
            "Total params: 1,212,513\n",
            "Trainable params: 1,212,513\n",
            "Non-trainable params: 0\n",
            "_________________________________________________________________\n",
            "Epoch 1/5\n",
            "346/346 [==============================] - 267s 772ms/step - loss: 0.6315 - acc: 0.6696 - val_loss: 0.6091 - val_acc: 0.6897\n",
            "Epoch 2/5\n",
            "346/346 [==============================] - 258s 746ms/step - loss: 0.6190 - acc: 0.6687 - val_loss: 0.6096 - val_acc: 0.6891\n",
            "Epoch 3/5\n",
            "346/346 [==============================] - 257s 743ms/step - loss: 0.6131 - acc: 0.6721 - val_loss: 0.5934 - val_acc: 0.6885\n",
            "Epoch 4/5\n",
            "346/346 [==============================] - 257s 742ms/step - loss: 0.6073 - acc: 0.6721 - val_loss: 0.5979 - val_acc: 0.6913\n",
            "Epoch 5/5\n",
            "346/346 [==============================] - 260s 751ms/step - loss: 0.5992 - acc: 0.6723 - val_loss: 0.6040 - val_acc: 0.6896\n"
          ],
          "name": "stdout"
        }
      ]
    },
    {
      "cell_type": "markdown",
      "metadata": {
        "id": "Swb1Srhz-CB0",
        "colab_type": "text"
      },
      "source": [
        "** Question 3**: Evaluation\n",
        "\n",
        "Predictions are generated and compared to the actual labels using the classification report. Then an roc curve graph is generated to visualize the prediction accuracy. "
      ]
    },
    {
      "cell_type": "code",
      "metadata": {
        "id": "lKk4E1m7h7B1",
        "colab_type": "code",
        "colab": {}
      },
      "source": [
        "#Saving model \n",
        "model.save_weights('model_wieghts.h5')\n",
        "model.save('model_keras.h5')"
      ],
      "execution_count": 0,
      "outputs": []
    },
    {
      "cell_type": "code",
      "metadata": {
        "id": "1JFHCzSiHzA5",
        "colab_type": "code",
        "outputId": "d240ecc9-c82a-493a-aff3-54aa6e26840f",
        "colab": {
          "base_uri": "https://localhost:8080/",
          "height": 34
        }
      },
      "source": [
        "validation_generator = val_datagen.flow_from_directory(\n",
        "    'data-lab3',\n",
        "    target_size=(img_height, img_width),\n",
        "    batch_size=batch_size,\n",
        "    shuffle=False,\n",
        "    class_mode='binary') # try binary\n",
        "\n",
        "validation_steps_per_epoch = np.math.ceil(validation_generator.samples / validation_generator.batch_size)\n",
        "\n",
        "predictions = model.predict_generator(validation_generator, steps=validation_steps_per_epoch)\n",
        "# Get most likely class\n",
        "predicted_classes = np.argmax(predictions, axis=1) \n",
        "\n",
        "true_classes = validation_generator.classes\n",
        "class_labels = list(validation_generator.class_indices.keys())  "
      ],
      "execution_count": 0,
      "outputs": [
        {
          "output_type": "stream",
          "text": [
            "Found 7390 images belonging to 2 classes.\n"
          ],
          "name": "stdout"
        }
      ]
    },
    {
      "cell_type": "code",
      "metadata": {
        "id": "-5LvuI9OOzEj",
        "colab_type": "code",
        "outputId": "634fbb0f-349c-4c9b-ad6b-71cf32f5c1df",
        "colab": {
          "base_uri": "https://localhost:8080/",
          "height": 238
        }
      },
      "source": [
        "from sklearn.metrics import classification_report\n",
        "\n",
        "# Use the classification_report from scikit-learn to report precision, recall, and f1-score\n",
        "report = classification_report(true_classes, predicted_classes, target_names=class_labels)\n",
        "print(report)  "
      ],
      "execution_count": 0,
      "outputs": [
        {
          "output_type": "stream",
          "text": [
            "              precision    recall  f1-score   support\n",
            "\n",
            "         cat       0.32      1.00      0.49      2400\n",
            "         dog       0.00      0.00      0.00      4990\n",
            "\n",
            "   micro avg       0.32      0.32      0.32      7390\n",
            "   macro avg       0.16      0.50      0.25      7390\n",
            "weighted avg       0.11      0.32      0.16      7390\n",
            "\n"
          ],
          "name": "stdout"
        },
        {
          "output_type": "stream",
          "text": [
            "/usr/local/lib/python3.6/dist-packages/sklearn/metrics/classification.py:1143: UndefinedMetricWarning:\n",
            "\n",
            "Precision and F-score are ill-defined and being set to 0.0 in labels with no predicted samples.\n",
            "\n"
          ],
          "name": "stderr"
        }
      ]
    },
    {
      "cell_type": "code",
      "metadata": {
        "id": "H9Ya7h5bZgrV",
        "colab_type": "code",
        "colab": {}
      },
      "source": [
        "!pip install scikit-plot"
      ],
      "execution_count": 0,
      "outputs": []
    },
    {
      "cell_type": "code",
      "metadata": {
        "id": "LBaSTew0ZOgz",
        "colab_type": "code",
        "colab": {}
      },
      "source": [
        "from sklearn.metrics import roc_curve\n",
        "\n",
        "\n",
        "y_pred_keras = model.predict(np.array(X_val))\n",
        "fpr_keras, tpr_keras, thresholds_keras = roc_curve(Y_val, y_pred_keras)\n",
        "\n"
      ],
      "execution_count": 0,
      "outputs": []
    },
    {
      "cell_type": "code",
      "metadata": {
        "id": "HfrqbBvfmSzt",
        "colab_type": "code",
        "colab": {}
      },
      "source": [
        "from sklearn.metrics import auc\n",
        "auc_keras = auc(fpr_keras, tpr_keras)"
      ],
      "execution_count": 0,
      "outputs": []
    },
    {
      "cell_type": "code",
      "metadata": {
        "id": "ayGNWni6lnrM",
        "colab_type": "code",
        "outputId": "43839006-e678-4560-b5b1-8c656e44d93c",
        "colab": {
          "base_uri": "https://localhost:8080/",
          "height": 364
        }
      },
      "source": [
        "import matplotlib.pyplot as plt\n",
        "\n",
        "# Visualize your results by displaying a ROC curve\n",
        "plt.plot([0, 1], [0, 1], 'k--')\n",
        "plt.plot(fpr_keras, tpr_keras, label='Keras (area = {:.3f})'.format(auc_keras))"
      ],
      "execution_count": 0,
      "outputs": [
        {
          "output_type": "execute_result",
          "data": {
            "text/plain": [
              "[<matplotlib.lines.Line2D at 0x7f919f8f7e80>]"
            ]
          },
          "metadata": {
            "tags": []
          },
          "execution_count": 159
        },
        {
          "output_type": "display_data",
          "data": {
            "image/png": "[encoded data removed]",
            "text/plain": [
              "<Figure size 576x396 with 1 Axes>"
            ]
          },
          "metadata": {
            "tags": []
          }
        }
      ]
    }
  ]
}