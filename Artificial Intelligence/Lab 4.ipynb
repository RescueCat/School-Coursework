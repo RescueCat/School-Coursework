{
  "nbformat": 4,
  "nbformat_minor": 0,
  "metadata": {
    "colab": {
      "name": "AI Lab 4.ipynb",
      "version": "0.3.2",
      "provenance": [],
      "collapsed_sections": [
        "WKbpcX0Rar7K"
      ],
      "toc_visible": true
    },
    "kernelspec": {
      "name": "python3",
      "display_name": "Python 3"
    }
  },
  "cells": [
    {
      "metadata": {
        "id": "WKbpcX0Rar7K",
        "colab_type": "text"
      },
      "cell_type": "markdown",
      "source": [
        "Lab 4:  Language Processing \n",
        "=="
      ]
    },
    {
      "metadata": {
        "id": "GYD91Xryl2rR",
        "colab_type": "text"
      },
      "cell_type": "markdown",
      "source": [
        "byJonathan Houston (omu075)"
      ]
    },
    {
      "metadata": {
        "id": "qltSL-Cgae45",
        "colab_type": "text"
      },
      "cell_type": "markdown",
      "source": [
        "I. Data\n",
        "=="
      ]
    },
    {
      "metadata": {
        "id": "uDIrNt12a6OF",
        "colab_type": "text"
      },
      "cell_type": "markdown",
      "source": [
        "Upload data and use Latin-1 encoding"
      ]
    },
    {
      "metadata": {
        "id": "OVyEAaNS_q5N",
        "colab_type": "code",
        "outputId": "7f73c11b-1bed-4f89-d96a-dd11350aa03f",
        "colab": {
          "base_uri": "https://localhost:8080/",
          "height": 204
        }
      },
      "cell_type": "code",
      "source": [
        "import pandas as pd\n",
        "trainDF = pd.read_csv(\"training.csv\", names = ('Score','ID','Date', 'Query', 'User', 'Tweet'), encoding = \"ISO-8859-1\")\n",
        "trainDF.head()"
      ],
      "execution_count": 2,
      "outputs": [
        {
          "output_type": "execute_result",
          "data": {
            "text/html": [
              "<div>\n",
              "<style scoped>\n",
              "    .dataframe tbody tr th:only-of-type {\n",
              "        vertical-align: middle;\n",
              "    }\n",
              "\n",
              "    .dataframe tbody tr th {\n",
              "        vertical-align: top;\n",
              "    }\n",
              "\n",
              "    .dataframe thead th {\n",
              "        text-align: right;\n",
              "    }\n",
              "</style>\n",
              "<table border=\"1\" class=\"dataframe\">\n",
              "  <thead>\n",
              "    <tr style=\"text-align: right;\">\n",
              "      <th></th>\n",
              "      <th>Score</th>\n",
              "      <th>ID</th>\n",
              "      <th>Date</th>\n",
              "      <th>Query</th>\n",
              "      <th>User</th>\n",
              "      <th>Tweet</th>\n",
              "    </tr>\n",
              "  </thead>\n",
              "  <tbody>\n",
              "    <tr>\n",
              "      <th>0</th>\n",
              "      <td>0</td>\n",
              "      <td>1467810369</td>\n",
              "      <td>Mon Apr 06 22:19:45 PDT 2009</td>\n",
              "      <td>NO_QUERY</td>\n",
              "      <td>_TheSpecialOne_</td>\n",
              "      <td>@switchfoot http://twitpic.com/2y1zl - Awww, t...</td>\n",
              "    </tr>\n",
              "    <tr>\n",
              "      <th>1</th>\n",
              "      <td>0</td>\n",
              "      <td>1467810672</td>\n",
              "      <td>Mon Apr 06 22:19:49 PDT 2009</td>\n",
              "      <td>NO_QUERY</td>\n",
              "      <td>scotthamilton</td>\n",
              "      <td>is upset that he can't update his Facebook by ...</td>\n",
              "    </tr>\n",
              "    <tr>\n",
              "      <th>2</th>\n",
              "      <td>0</td>\n",
              "      <td>1467810917</td>\n",
              "      <td>Mon Apr 06 22:19:53 PDT 2009</td>\n",
              "      <td>NO_QUERY</td>\n",
              "      <td>mattycus</td>\n",
              "      <td>@Kenichan I dived many times for the ball. Man...</td>\n",
              "    </tr>\n",
              "    <tr>\n",
              "      <th>3</th>\n",
              "      <td>0</td>\n",
              "      <td>1467811184</td>\n",
              "      <td>Mon Apr 06 22:19:57 PDT 2009</td>\n",
              "      <td>NO_QUERY</td>\n",
              "      <td>ElleCTF</td>\n",
              "      <td>my whole body feels itchy and like its on fire</td>\n",
              "    </tr>\n",
              "    <tr>\n",
              "      <th>4</th>\n",
              "      <td>0</td>\n",
              "      <td>1467811193</td>\n",
              "      <td>Mon Apr 06 22:19:57 PDT 2009</td>\n",
              "      <td>NO_QUERY</td>\n",
              "      <td>Karoli</td>\n",
              "      <td>@nationwideclass no, it's not behaving at all....</td>\n",
              "    </tr>\n",
              "  </tbody>\n",
              "</table>\n",
              "</div>"
            ],
            "text/plain": [
              "   Score          ID                          Date     Query             User  \\\n",
              "0      0  1467810369  Mon Apr 06 22:19:45 PDT 2009  NO_QUERY  _TheSpecialOne_   \n",
              "1      0  1467810672  Mon Apr 06 22:19:49 PDT 2009  NO_QUERY    scotthamilton   \n",
              "2      0  1467810917  Mon Apr 06 22:19:53 PDT 2009  NO_QUERY         mattycus   \n",
              "3      0  1467811184  Mon Apr 06 22:19:57 PDT 2009  NO_QUERY          ElleCTF   \n",
              "4      0  1467811193  Mon Apr 06 22:19:57 PDT 2009  NO_QUERY           Karoli   \n",
              "\n",
              "                                               Tweet  \n",
              "0  @switchfoot http://twitpic.com/2y1zl - Awww, t...  \n",
              "1  is upset that he can't update his Facebook by ...  \n",
              "2  @Kenichan I dived many times for the ball. Man...  \n",
              "3    my whole body feels itchy and like its on fire   \n",
              "4  @nationwideclass no, it's not behaving at all....  "
            ]
          },
          "metadata": {
            "tags": []
          },
          "execution_count": 2
        }
      ]
    },
    {
      "metadata": {
        "id": "EIHhFyW1bVbd",
        "colab_type": "text"
      },
      "cell_type": "markdown",
      "source": [
        "Load the features into X and the labels into Y. At minimum, the features will include the\n",
        "text of the tweet, and the labels will be the category , in this case i used 0, 1, 2"
      ]
    },
    {
      "metadata": {
        "id": "rnrP5a9yA3w4",
        "colab_type": "code",
        "outputId": "f489089d-92db-4a32-f27f-b0a0fabde12b",
        "colab": {
          "base_uri": "https://localhost:8080/",
          "height": 68
        }
      },
      "cell_type": "code",
      "source": [
        "data = []\n",
        "data_labels = []\n",
        "nbrNegative = 0\n",
        "nbrNeutral = 0\n",
        "nbrPositive = 0\n",
        "\n",
        "for index, row in trainDF.iterrows():\n",
        "  if row['Score'] == 0:\n",
        "    data.append(row['Tweet']) \n",
        "    data_labels.append('0')\n",
        "    nbrNegative += 1\n",
        "  if row['Score'] == 2:\n",
        "    data.append(row['Tweet']) \n",
        "    data_labels.append('1')\n",
        "    nbrNeutral += 1\n",
        "  if row['Score'] == 4:\n",
        "    data.append(row['Tweet']) \n",
        "    data_labels.append('2')\n",
        "    nbrPositive += 1\n",
        "    \n",
        "print(\"Finished: \\n Data Size: %d \\n Label Size: %d\" % (len(data), len(data_labels)))"
      ],
      "execution_count": 4,
      "outputs": [
        {
          "output_type": "stream",
          "text": [
            "Finished: \n",
            " Data Size: 1586588 \n",
            " Label Size: 1586588\n"
          ],
          "name": "stdout"
        }
      ]
    },
    {
      "metadata": {
        "id": "gVOpQh3DcPM9",
        "colab_type": "text"
      },
      "cell_type": "markdown",
      "source": [
        "Train Test Split"
      ]
    },
    {
      "metadata": {
        "id": "3ytYXUiFCPoQ",
        "colab_type": "code",
        "outputId": "0be499b7-0c80-4f5c-82e5-c1fb70a3ea12",
        "colab": {
          "base_uri": "https://localhost:8080/",
          "height": 34
        }
      },
      "cell_type": "code",
      "source": [
        "from sklearn.model_selection import train_test_split\n",
        "\n",
        "X_train, X_test, y_train, y_test = train_test_split(trainDF['Tweet'], trainDF['Score'], test_size=0.2)\n",
        "\n",
        "print(\"Finished\")"
      ],
      "execution_count": 15,
      "outputs": [
        {
          "output_type": "stream",
          "text": [
            "Finished\n"
          ],
          "name": "stdout"
        }
      ]
    },
    {
      "metadata": {
        "id": "LY5E_BobcSm4",
        "colab_type": "text"
      },
      "cell_type": "markdown",
      "source": [
        " Use the CountVectorizer\n",
        "from sklearn to convert the data into a matrix of token counts (stopwords is needed)"
      ]
    },
    {
      "metadata": {
        "id": "RLtd8aZgemsH",
        "colab_type": "code",
        "colab": {
          "base_uri": "https://localhost:8080/",
          "height": 68
        },
        "outputId": "f405f6e3-2674-4f0a-d00f-995bff01ee1e"
      },
      "cell_type": "code",
      "source": [
        "import nltk\n",
        "nltk.download('stopwords')"
      ],
      "execution_count": 8,
      "outputs": [
        {
          "output_type": "stream",
          "text": [
            "[nltk_data] Downloading package stopwords to /root/nltk_data...\n",
            "[nltk_data]   Unzipping corpora/stopwords.zip.\n"
          ],
          "name": "stdout"
        },
        {
          "output_type": "execute_result",
          "data": {
            "text/plain": [
              "True"
            ]
          },
          "metadata": {
            "tags": []
          },
          "execution_count": 8
        }
      ]
    },
    {
      "metadata": {
        "id": "ApFgVPYFLtEB",
        "colab_type": "code",
        "colab": {}
      },
      "cell_type": "code",
      "source": [
        "from sklearn.feature_extraction.text import CountVectorizer\n",
        "from nltk.corpus import stopwords\n",
        " \n",
        "vectorizer = CountVectorizer(binary=True, stop_words=stopwords.words('english'), \n",
        "                             lowercase=True, min_df=3, max_df=0.9, max_features=5000)\n",
        "X_train_onehot = vectorizer.fit_transform(X_train)"
      ],
      "execution_count": 0,
      "outputs": []
    },
    {
      "metadata": {
        "id": "5VG9Tis_ckdw",
        "colab_type": "text"
      },
      "cell_type": "markdown",
      "source": [
        "Bar chart"
      ]
    },
    {
      "metadata": {
        "id": "lNf0zuLFclp4",
        "colab_type": "code",
        "colab": {
          "base_uri": "https://localhost:8080/",
          "height": 281
        },
        "outputId": "ad684154-c89d-41a1-8c5a-7b635e9e3c72"
      },
      "cell_type": "code",
      "source": [
        "import plotly.plotly as py\n",
        "import plotly.tools as tls\n",
        "import matplotlib.pyplot as plt\n",
        "\n",
        "# Display a bar chart to show the number of images in each category, in both the training\n",
        "# and testing data.\n",
        "plt.title(\"Cats vs Dogs\")\n",
        "y = [nbrNegative, nbrNeutral, nbrPositive]\n",
        "x = ['Negative', 'Neutral', 'Positive']\n",
        "width = 1/1.5\n",
        "plt.bar(x, y, width, color=\"blue\")\n",
        "plt.show()"
      ],
      "execution_count": 11,
      "outputs": [
        {
          "output_type": "display_data",
          "data": {
            "image/png": "[encoded data removed]",
            "text/plain": [
              "<Figure size 432x288 with 1 Axes>"
            ]
          },
          "metadata": {
            "tags": []
          }
        }
      ]
    },
    {
      "metadata": {
        "id": "hLXbccMrcYjz",
        "colab_type": "text"
      },
      "cell_type": "markdown",
      "source": [
        "II. Classification\n",
        "==="
      ]
    },
    {
      "metadata": {
        "id": "wIG7K8tpfzjT",
        "colab_type": "text"
      },
      "cell_type": "markdown",
      "source": [
        "Create a neural network using Keras and add at least 2 hidden layers.\n",
        "\n",
        "Use the summary on your Keras model to display a full summary of your model."
      ]
    },
    {
      "metadata": {
        "id": "Oi8rWzCgNBzm",
        "colab_type": "code",
        "outputId": "0e3559cb-89ce-4d38-82dc-72ab904f96f8",
        "colab": {
          "base_uri": "https://localhost:8080/",
          "height": 292
        }
      },
      "cell_type": "code",
      "source": [
        "from keras.models import Sequential\n",
        "from keras.layers import Dense\n",
        " \n",
        "model = Sequential()\n",
        " \n",
        "model.add(Dense(units=500, activation='relu', input_dim=len(vectorizer.get_feature_names())))\n",
        "model.add(Dense(units=5, activation='sigmoid'))\n",
        " \n",
        "model.compile(loss='sparse_categorical_crossentropy', optimizer='SGD', metrics=['accuracy'])\n",
        "model.summary()"
      ],
      "execution_count": 13,
      "outputs": [
        {
          "output_type": "stream",
          "text": [
            "Using TensorFlow backend.\n"
          ],
          "name": "stderr"
        },
        {
          "output_type": "stream",
          "text": [
            "WARNING:tensorflow:From /usr/local/lib/python3.6/dist-packages/tensorflow/python/framework/op_def_library.py:263: colocate_with (from tensorflow.python.framework.ops) is deprecated and will be removed in a future version.\n",
            "Instructions for updating:\n",
            "Colocations handled automatically by placer.\n",
            "_________________________________________________________________\n",
            "Layer (type)                 Output Shape              Param #   \n",
            "=================================================================\n",
            "dense_1 (Dense)              (None, 500)               2500500   \n",
            "_________________________________________________________________\n",
            "dense_2 (Dense)              (None, 5)                 2505      \n",
            "=================================================================\n",
            "Total params: 2,503,005\n",
            "Trainable params: 2,503,005\n",
            "Non-trainable params: 0\n",
            "_________________________________________________________________\n"
          ],
          "name": "stdout"
        }
      ]
    },
    {
      "metadata": {
        "id": "31jPXEn7gUFD",
        "colab_type": "text"
      },
      "cell_type": "markdown",
      "source": [
        "Train your model, using fit from Keras. "
      ]
    },
    {
      "metadata": {
        "id": "zGhRO0YwNXHL",
        "colab_type": "code",
        "outputId": "1a51d58a-5cad-4513-e5e4-818ceb91157e",
        "colab": {
          "base_uri": "https://localhost:8080/",
          "height": 156
        }
      },
      "cell_type": "code",
      "source": [
        "model.fit(X_train_onehot[:-100], y_train[:-100], \n",
        "          epochs=1, batch_size=128, verbose=1, \n",
        "          validation_data=(X_train_onehot[-100:], y_train[-100:]))"
      ],
      "execution_count": 16,
      "outputs": [
        {
          "output_type": "stream",
          "text": [
            "WARNING:tensorflow:From /usr/local/lib/python3.6/dist-packages/tensorflow/python/ops/math_ops.py:3066: to_int32 (from tensorflow.python.ops.math_ops) is deprecated and will be removed in a future version.\n",
            "Instructions for updating:\n",
            "Use tf.cast instead.\n",
            "Train on 1269170 samples, validate on 100 samples\n",
            "Epoch 1/1\n",
            "1269170/1269170 [==============================] - 539s 425us/step - loss: 0.7452 - acc: 0.5004 - val_loss: 0.6950 - val_acc: 0.5100\n"
          ],
          "name": "stdout"
        },
        {
          "output_type": "execute_result",
          "data": {
            "text/plain": [
              "<keras.callbacks.History at 0x7f96b746d588>"
            ]
          },
          "metadata": {
            "tags": []
          },
          "execution_count": 16
        }
      ]
    },
    {
      "metadata": {
        "id": "SeLLoYcfha52",
        "colab_type": "text"
      },
      "cell_type": "markdown",
      "source": [
        "III. Evaluation\n",
        "==="
      ]
    },
    {
      "metadata": {
        "id": "DGdI3cOGhk1Q",
        "colab_type": "text"
      },
      "cell_type": "markdown",
      "source": [
        "Use the classification_report from scikit-learn to report precision, recall, and f1-score."
      ]
    },
    {
      "metadata": {
        "id": "ZTE-ANC-Uzzm",
        "colab_type": "code",
        "outputId": "7ff23291-f4fa-40f2-adef-ce3b40979291",
        "colab": {
          "base_uri": "https://localhost:8080/",
          "height": 34
        }
      },
      "cell_type": "code",
      "source": [
        "scores = model.evaluate(vectorizer.transform(X_test), y_test, verbose=1)"
      ],
      "execution_count": 18,
      "outputs": [
        {
          "output_type": "stream",
          "text": [
            "317318/317318 [==============================] - 85s 269us/step\n"
          ],
          "name": "stdout"
        }
      ]
    },
    {
      "metadata": {
        "id": "RkH80muWZNgt",
        "colab_type": "code",
        "outputId": "6f92a08c-fe90-48af-9170-e6cfa536ada3",
        "colab": {
          "base_uri": "https://localhost:8080/",
          "height": 34
        }
      },
      "cell_type": "code",
      "source": [
        "print(\"Accuracy:\", scores[1]) "
      ],
      "execution_count": 19,
      "outputs": [
        {
          "output_type": "stream",
          "text": [
            "Accuracy: 0.5059152017845845\n"
          ],
          "name": "stdout"
        }
      ]
    },
    {
      "metadata": {
        "id": "ea4aE39uZY5B",
        "colab_type": "code",
        "colab": {
          "base_uri": "https://localhost:8080/",
          "height": 68
        },
        "outputId": "50bd3487-ccf6-4d55-8919-8d76560832a1"
      },
      "cell_type": "code",
      "source": [
        "from sklearn.metrics import precision_score\n",
        "from sklearn.metrics import recall_score\n",
        "from sklearn.metrics import f1_score\n",
        "\n",
        "# predict probabilities for test set\n",
        "yhat_probs = model.predict(vectorizer.transform(X_test), verbose=0)\n",
        "\n",
        "# predict crisp classes for test set\n",
        "yhat_classes = model.predict_classes(vectorizer.transform(X_test), verbose=0)\n",
        "\n",
        "# accuracy: (tp + tn) / (p + n)\n",
        "#accuracy = accuracy_score(y_test, yhat_classes)\n",
        "#print('Accuracy: %f' % accuracy)\n",
        "# precision tp / (tp + fp)\n",
        "precision = precision_score(y_test, yhat_classes, pos_label=4)\n",
        "print('Precision: %f' % precision)\n",
        "# recall: tp / (tp + fn)\n",
        "recall = recall_score(y_test, yhat_classes, pos_label=4)\n",
        "print('Recall: %f' % recall)\n",
        "# f1: 2 tp / (2 tp + fp + fn)\n",
        "f1 = f1_score(y_test, yhat_classes, pos_label=4)\n",
        "print('F1 score: %f' % f1)\n"
      ],
      "execution_count": 17,
      "outputs": [
        {
          "output_type": "stream",
          "text": [
            "Precision: 0.504611\n",
            "Recall: 0.861127\n",
            "F1 score: 0.636336\n"
          ],
          "name": "stdout"
        }
      ]
    },
    {
      "metadata": {
        "id": "j8fiaqJrhrDF",
        "colab_type": "text"
      },
      "cell_type": "markdown",
      "source": [
        "Visualize your results by displaying a ROC curve - a probability curve plotting the true\n",
        "positive rate against the false positive rate. Put FPR on the x-axis and TPR on the y-axis.\n",
        "Use roc_curve from scikit-learn to help with this step."
      ]
    },
    {
      "metadata": {
        "id": "CY6cHzwceBXw",
        "colab_type": "code",
        "outputId": "be2c3eba-aa17-4597-8203-d249e9dba7f4",
        "colab": {
          "base_uri": "https://localhost:8080/",
          "height": 85
        }
      },
      "cell_type": "code",
      "source": [
        "from sklearn.metrics import cohen_kappa_score\n",
        "from sklearn.metrics import roc_auc_score\n",
        "from sklearn.metrics import confusion_matrix\n",
        "\n",
        "# kappa\n",
        "kappa = cohen_kappa_score(y_test, yhat_classes)\n",
        "print('Cohens kappa: %f' % kappa)\n",
        "# ROC AUC\n",
        "auc = roc_auc_score(y_test, yhat_classes)\n",
        "print('ROC AUC: %f' % auc)\n",
        "# confusion matrix\n",
        "matrix = confusion_matrix(y_test, yhat_classes)\n",
        "print(matrix)"
      ],
      "execution_count": 23,
      "outputs": [
        {
          "output_type": "stream",
          "text": [
            "Cohens kappa: 0.009024\n",
            "ROC AUC: 0.504499\n",
            "[[ 23368 134661]\n",
            " [ 22121 137168]]\n"
          ],
          "name": "stdout"
        }
      ]
    },
    {
      "metadata": {
        "id": "Zx4s0BHHgsmv",
        "colab_type": "code",
        "outputId": "c3448c64-43bf-4ec1-8b92-f6c57bca492d",
        "colab": {
          "base_uri": "https://localhost:8080/",
          "height": 283
        }
      },
      "cell_type": "code",
      "source": [
        "import sklearn.metrics as metrics\n",
        "# calculate the fpr and tpr for all thresholds of the classification\n",
        "fpr, tpr, threshold = metrics.roc_curve(y_test, yhat_classes, pos_label=4)\n",
        "roc_auc = metrics.auc(fpr, tpr)\n",
        "\n",
        "# method I: plt\n",
        "import matplotlib.pyplot as plt\n",
        "plt.title('')\n",
        "plt.plot(fpr, tpr, 'b', label = 'AUC = %0.2f' % roc_auc)\n",
        "plt.legend(loc = 'lower right')\n",
        "plt.plot([0, 1], [0, 1],'r--')\n",
        "plt.xlim([0, 1])\n",
        "plt.ylim([0, 1])\n",
        "plt.ylabel('True Positive Rate')\n",
        "plt.xlabel('False Positive Rate')\n",
        "plt.show()"
      ],
      "execution_count": 24,
      "outputs": [
        {
          "output_type": "display_data",
          "data": {
            "image/png": "[encoded data removed]",
            "text/plain": [
              "<Figure size 432x288 with 1 Axes>"
            ]
          },
          "metadata": {
            "tags": []
          }
        }
      ]
    }
  ]
}