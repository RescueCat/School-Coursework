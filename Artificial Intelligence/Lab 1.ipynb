{
  "nbformat": 4,
  "nbformat_minor": 0,
  "metadata": {
    "colab": {
      "name": "omu075-lab1.ipynb",
      "version": "0.3.2",
      "provenance": [],
      "collapsed_sections": []
    },
    "kernelspec": {
      "name": "python3",
      "display_name": "Python 3"
    }
  },
  "cells": [
    {
      "cell_type": "markdown",
      "metadata": {
        "id": "sTKlEMHN4C0k",
        "colab_type": "text"
      },
      "source": [
        "Jonathan Houston \n",
        "01389484 \n",
        "omu075"
      ]
    },
    {
      "cell_type": "code",
      "metadata": {
        "id": "dbojaxIdv2Lu",
        "colab_type": "code",
        "outputId": "648bd647-6784-4277-a4c0-ddecb1fef083",
        "colab": {
          "base_uri": "https://localhost:8080/",
          "height": 153
        }
      },
      "source": [
        "#Question 2\n",
        "import random\n",
        "import sys\n",
        "\n",
        "greetings = ['hi', 'Hi', 'hey!','hey','hello']\n",
        "question = ['What\\'s up? ', 'How are you?','How are you doing?', \n",
        "            'How\\'s it going?', 'What\\'s up?', 'What\\'s new?', \n",
        "            'What\\'s going on?']\n",
        "responses = ['Okay',\"I'm fine\", \"Nothing much\", \"same\"]\n",
        "\n",
        "while True:\n",
        "  userInput = input(\">>> \")\n",
        "  if userInput.lower() in greetings:\n",
        "    random_greeting = random.choice(greetings)\n",
        "    print(random_greeting)\n",
        "  elif userInput.lower() in [q.lower() for q in question]: #question.lower():\n",
        "    random_response = random.choice(responses)\n",
        "    print(random_response)\n",
        "  elif userInput.lower() == \"bye\" or userInput.lower() == \"exit\":\n",
        "    print(\"See ya!\")\n",
        "    break\n",
        "  else:\n",
        "    print(\"I'm sorry, I do not understand that. T_T\")"
      ],
      "execution_count": 0,
      "outputs": [
        {
          "output_type": "stream",
          "text": [
            ">>> HEY\n",
            "Hi\n",
            ">>> HI\n",
            "hey\n",
            ">>> HoW's It GoIng?\n",
            "Okay\n",
            ">>> EXIT\n",
            "See ya!\n"
          ],
          "name": "stdout"
        }
      ]
    },
    {
      "cell_type": "markdown",
      "metadata": {
        "id": "POIu4WnaEHbS",
        "colab_type": "text"
      },
      "source": [
        " **1. (15 points) Complete the following table describing the task environments for the\n",
        "given four tasks. Leverage the terminology reviewed in class and in your textbook.**\n",
        "\n",
        "*Crossword Puzzle*: Fully Observable, Deterministic, Sequential, Static, Discrete, Single\n",
        "\n",
        "*Attending a lecture*:\n",
        "Partially observable,\n",
        "Stochastic,\n",
        "Sequential,\n",
        "Dynamic,\n",
        "Continuous, \n",
        "Multi\n",
        "\n",
        "*Image analysis*:\n",
        "Fully observable,\n",
        "Deterministic,\n",
        "Episodic,\n",
        "Static,\n",
        "Discrete,\n",
        "Single\n",
        "\n",
        "*Self-driving Shuttle:*\n",
        "Partially observable,\n",
        "Stochastic,\n",
        "Sequential,\n",
        "Dynamic,\n",
        "Continuous,\n",
        "Multi\n",
        "\n",
        "**2. (15 points) What are the P.E.A.S. for a medical diagnostic system?**\n",
        "\n",
        "Performance Measure: Healthy Patient\n",
        "\n",
        "Environment: Hospital\n",
        "\n",
        "Acuators: user terminal\n",
        "\n",
        "Sensors: keyboard  "
      ]
    },
    {
      "cell_type": "code",
      "metadata": {
        "id": "nnVqOIgQxlo4",
        "colab_type": "code",
        "colab": {}
      },
      "source": [
        ""
      ],
      "execution_count": 0,
      "outputs": []
    }
  ]
}